{
 "cells": [
  {
   "cell_type": "code",
   "execution_count": 154,
   "metadata": {
    "colab": {},
    "colab_type": "code",
    "id": "lc-uZ_ZhN44k"
   },
   "outputs": [],
   "source": [
    "import pandas as pd\n",
    "import numpy as np\n",
    "import matplotlib.pyplot as plt\n",
    "import seaborn as sns"
   ]
  },
  {
   "cell_type": "markdown",
   "metadata": {
    "colab_type": "text",
    "id": "LheBPT9zOi03"
   },
   "source": [
    "### Load Data"
   ]
  },
  {
   "cell_type": "code",
   "execution_count": 155,
   "metadata": {
    "colab": {},
    "colab_type": "code",
    "id": "JXDvb0xDOQ98"
   },
   "outputs": [],
   "source": [
    "data = pd.read_csv(\"credit_card_clustering.csv\")"
   ]
  },
  {
   "cell_type": "code",
   "execution_count": 156,
   "metadata": {
    "colab": {
     "base_uri": "https://localhost:8080/",
     "height": 204
    },
    "colab_type": "code",
    "id": "riPA2EWpOUZa",
    "outputId": "d0621c12-0ca6-419f-d93f-07e458363096"
   },
   "outputs": [
    {
     "data": {
      "text/html": [
       "<div>\n",
       "<style scoped>\n",
       "    .dataframe tbody tr th:only-of-type {\n",
       "        vertical-align: middle;\n",
       "    }\n",
       "\n",
       "    .dataframe tbody tr th {\n",
       "        vertical-align: top;\n",
       "    }\n",
       "\n",
       "    .dataframe thead th {\n",
       "        text-align: right;\n",
       "    }\n",
       "</style>\n",
       "<table border=\"1\" class=\"dataframe\">\n",
       "  <thead>\n",
       "    <tr style=\"text-align: right;\">\n",
       "      <th></th>\n",
       "      <th>CUST_ID</th>\n",
       "      <th>BALANCE</th>\n",
       "      <th>BALANCE_FREQUENCY</th>\n",
       "      <th>PURCHASES</th>\n",
       "      <th>ONEOFF_PURCHASES</th>\n",
       "      <th>INSTALLMENTS_PURCHASES</th>\n",
       "      <th>CASH_ADVANCE</th>\n",
       "      <th>PURCHASES_FREQUENCY</th>\n",
       "      <th>ONEOFF_PURCHASES_FREQUENCY</th>\n",
       "      <th>PURCHASES_INSTALLMENTS_FREQUENCY</th>\n",
       "      <th>CASH_ADVANCE_FREQUENCY</th>\n",
       "      <th>CASH_ADVANCE_TRX</th>\n",
       "      <th>PURCHASES_TRX</th>\n",
       "      <th>CREDIT_LIMIT</th>\n",
       "      <th>PAYMENTS</th>\n",
       "      <th>MINIMUM_PAYMENTS</th>\n",
       "      <th>PRC_FULL_PAYMENT</th>\n",
       "      <th>TENURE</th>\n",
       "    </tr>\n",
       "  </thead>\n",
       "  <tbody>\n",
       "    <tr>\n",
       "      <td>0</td>\n",
       "      <td>C10001</td>\n",
       "      <td>40.900749</td>\n",
       "      <td>0.818182</td>\n",
       "      <td>95.40</td>\n",
       "      <td>0.00</td>\n",
       "      <td>95.4</td>\n",
       "      <td>0.000000</td>\n",
       "      <td>0.166667</td>\n",
       "      <td>0.000000</td>\n",
       "      <td>0.083333</td>\n",
       "      <td>0.000000</td>\n",
       "      <td>0</td>\n",
       "      <td>2</td>\n",
       "      <td>1000.0</td>\n",
       "      <td>201.802084</td>\n",
       "      <td>139.509787</td>\n",
       "      <td>0.000000</td>\n",
       "      <td>12</td>\n",
       "    </tr>\n",
       "    <tr>\n",
       "      <td>1</td>\n",
       "      <td>C10002</td>\n",
       "      <td>3202.467416</td>\n",
       "      <td>0.909091</td>\n",
       "      <td>0.00</td>\n",
       "      <td>0.00</td>\n",
       "      <td>0.0</td>\n",
       "      <td>6442.945483</td>\n",
       "      <td>0.000000</td>\n",
       "      <td>0.000000</td>\n",
       "      <td>0.000000</td>\n",
       "      <td>0.250000</td>\n",
       "      <td>4</td>\n",
       "      <td>0</td>\n",
       "      <td>7000.0</td>\n",
       "      <td>4103.032597</td>\n",
       "      <td>1072.340217</td>\n",
       "      <td>0.222222</td>\n",
       "      <td>12</td>\n",
       "    </tr>\n",
       "    <tr>\n",
       "      <td>2</td>\n",
       "      <td>C10003</td>\n",
       "      <td>2495.148862</td>\n",
       "      <td>1.000000</td>\n",
       "      <td>773.17</td>\n",
       "      <td>773.17</td>\n",
       "      <td>0.0</td>\n",
       "      <td>0.000000</td>\n",
       "      <td>1.000000</td>\n",
       "      <td>1.000000</td>\n",
       "      <td>0.000000</td>\n",
       "      <td>0.000000</td>\n",
       "      <td>0</td>\n",
       "      <td>12</td>\n",
       "      <td>7500.0</td>\n",
       "      <td>622.066742</td>\n",
       "      <td>627.284787</td>\n",
       "      <td>0.000000</td>\n",
       "      <td>12</td>\n",
       "    </tr>\n",
       "    <tr>\n",
       "      <td>3</td>\n",
       "      <td>C10004</td>\n",
       "      <td>1666.670542</td>\n",
       "      <td>0.636364</td>\n",
       "      <td>1499.00</td>\n",
       "      <td>1499.00</td>\n",
       "      <td>0.0</td>\n",
       "      <td>205.788017</td>\n",
       "      <td>0.083333</td>\n",
       "      <td>0.083333</td>\n",
       "      <td>0.000000</td>\n",
       "      <td>0.083333</td>\n",
       "      <td>1</td>\n",
       "      <td>1</td>\n",
       "      <td>7500.0</td>\n",
       "      <td>0.000000</td>\n",
       "      <td>NaN</td>\n",
       "      <td>0.000000</td>\n",
       "      <td>12</td>\n",
       "    </tr>\n",
       "    <tr>\n",
       "      <td>4</td>\n",
       "      <td>C10005</td>\n",
       "      <td>817.714335</td>\n",
       "      <td>1.000000</td>\n",
       "      <td>16.00</td>\n",
       "      <td>16.00</td>\n",
       "      <td>0.0</td>\n",
       "      <td>0.000000</td>\n",
       "      <td>0.083333</td>\n",
       "      <td>0.083333</td>\n",
       "      <td>0.000000</td>\n",
       "      <td>0.000000</td>\n",
       "      <td>0</td>\n",
       "      <td>1</td>\n",
       "      <td>1200.0</td>\n",
       "      <td>678.334763</td>\n",
       "      <td>244.791237</td>\n",
       "      <td>0.000000</td>\n",
       "      <td>12</td>\n",
       "    </tr>\n",
       "  </tbody>\n",
       "</table>\n",
       "</div>"
      ],
      "text/plain": [
       "  CUST_ID      BALANCE  BALANCE_FREQUENCY  PURCHASES  ONEOFF_PURCHASES  \\\n",
       "0  C10001    40.900749           0.818182      95.40              0.00   \n",
       "1  C10002  3202.467416           0.909091       0.00              0.00   \n",
       "2  C10003  2495.148862           1.000000     773.17            773.17   \n",
       "3  C10004  1666.670542           0.636364    1499.00           1499.00   \n",
       "4  C10005   817.714335           1.000000      16.00             16.00   \n",
       "\n",
       "   INSTALLMENTS_PURCHASES  CASH_ADVANCE  PURCHASES_FREQUENCY  \\\n",
       "0                    95.4      0.000000             0.166667   \n",
       "1                     0.0   6442.945483             0.000000   \n",
       "2                     0.0      0.000000             1.000000   \n",
       "3                     0.0    205.788017             0.083333   \n",
       "4                     0.0      0.000000             0.083333   \n",
       "\n",
       "   ONEOFF_PURCHASES_FREQUENCY  PURCHASES_INSTALLMENTS_FREQUENCY  \\\n",
       "0                    0.000000                          0.083333   \n",
       "1                    0.000000                          0.000000   \n",
       "2                    1.000000                          0.000000   \n",
       "3                    0.083333                          0.000000   \n",
       "4                    0.083333                          0.000000   \n",
       "\n",
       "   CASH_ADVANCE_FREQUENCY  CASH_ADVANCE_TRX  PURCHASES_TRX  CREDIT_LIMIT  \\\n",
       "0                0.000000                 0              2        1000.0   \n",
       "1                0.250000                 4              0        7000.0   \n",
       "2                0.000000                 0             12        7500.0   \n",
       "3                0.083333                 1              1        7500.0   \n",
       "4                0.000000                 0              1        1200.0   \n",
       "\n",
       "      PAYMENTS  MINIMUM_PAYMENTS  PRC_FULL_PAYMENT  TENURE  \n",
       "0   201.802084        139.509787          0.000000      12  \n",
       "1  4103.032597       1072.340217          0.222222      12  \n",
       "2   622.066742        627.284787          0.000000      12  \n",
       "3     0.000000               NaN          0.000000      12  \n",
       "4   678.334763        244.791237          0.000000      12  "
      ]
     },
     "execution_count": 156,
     "metadata": {},
     "output_type": "execute_result"
    }
   ],
   "source": [
    "data.head()"
   ]
  },
  {
   "cell_type": "markdown",
   "metadata": {
    "colab_type": "text",
    "id": "UTTRZFQJQmXC"
   },
   "source": [
    "# Exploratory Data Analysis"
   ]
  },
  {
   "cell_type": "markdown",
   "metadata": {
    "colab_type": "text",
    "id": "qvz1x9KfO3jt"
   },
   "source": [
    "### How many rows/columns are there?"
   ]
  },
  {
   "cell_type": "code",
   "execution_count": 157,
   "metadata": {
    "colab": {
     "base_uri": "https://localhost:8080/",
     "height": 34
    },
    "colab_type": "code",
    "id": "DWzrWlMaO5_j",
    "outputId": "aaf47af9-6264-4ac1-ef6e-986eff1f6806"
   },
   "outputs": [
    {
     "data": {
      "text/plain": [
       "(8950, 18)"
      ]
     },
     "execution_count": 157,
     "metadata": {},
     "output_type": "execute_result"
    }
   ],
   "source": [
    "data.shape"
   ]
  },
  {
   "cell_type": "markdown",
   "metadata": {
    "colab_type": "text",
    "id": "0pxHHHgNOWGR"
   },
   "source": [
    "### How many customers are there?"
   ]
  },
  {
   "cell_type": "code",
   "execution_count": 158,
   "metadata": {
    "colab": {
     "base_uri": "https://localhost:8080/",
     "height": 34
    },
    "colab_type": "code",
    "id": "9ZmesyD9Onuq",
    "outputId": "f18432d0-8396-46f8-f0f7-882788c98b38"
   },
   "outputs": [
    {
     "data": {
      "text/plain": [
       "8950"
      ]
     },
     "execution_count": 158,
     "metadata": {},
     "output_type": "execute_result"
    }
   ],
   "source": [
    "data['CUST_ID'].nunique()"
   ]
  },
  {
   "cell_type": "markdown",
   "metadata": {
    "colab_type": "text",
    "id": "iU-MbVEVOwOt"
   },
   "source": [
    "This means, we have 8950 unique customer IDs"
   ]
  },
  {
   "cell_type": "code",
   "execution_count": 159,
   "metadata": {},
   "outputs": [
    {
     "data": {
      "text/plain": [
       "Index(['CUST_ID', 'BALANCE', 'BALANCE_FREQUENCY', 'PURCHASES',\n",
       "       'ONEOFF_PURCHASES', 'INSTALLMENTS_PURCHASES', 'CASH_ADVANCE',\n",
       "       'PURCHASES_FREQUENCY', 'ONEOFF_PURCHASES_FREQUENCY',\n",
       "       'PURCHASES_INSTALLMENTS_FREQUENCY', 'CASH_ADVANCE_FREQUENCY',\n",
       "       'CASH_ADVANCE_TRX', 'PURCHASES_TRX', 'CREDIT_LIMIT', 'PAYMENTS',\n",
       "       'MINIMUM_PAYMENTS', 'PRC_FULL_PAYMENT', 'TENURE'],\n",
       "      dtype='object')"
      ]
     },
     "execution_count": 159,
     "metadata": {},
     "output_type": "execute_result"
    }
   ],
   "source": [
    "data.columns"
   ]
  },
  {
   "cell_type": "code",
   "execution_count": 160,
   "metadata": {},
   "outputs": [
    {
     "data": {
      "text/plain": [
       "CUST_ID                              object\n",
       "BALANCE                             float64\n",
       "BALANCE_FREQUENCY                   float64\n",
       "PURCHASES                           float64\n",
       "ONEOFF_PURCHASES                    float64\n",
       "INSTALLMENTS_PURCHASES              float64\n",
       "CASH_ADVANCE                        float64\n",
       "PURCHASES_FREQUENCY                 float64\n",
       "ONEOFF_PURCHASES_FREQUENCY          float64\n",
       "PURCHASES_INSTALLMENTS_FREQUENCY    float64\n",
       "CASH_ADVANCE_FREQUENCY              float64\n",
       "CASH_ADVANCE_TRX                      int64\n",
       "PURCHASES_TRX                         int64\n",
       "CREDIT_LIMIT                        float64\n",
       "PAYMENTS                            float64\n",
       "MINIMUM_PAYMENTS                    float64\n",
       "PRC_FULL_PAYMENT                    float64\n",
       "TENURE                                int64\n",
       "dtype: object"
      ]
     },
     "execution_count": 160,
     "metadata": {},
     "output_type": "execute_result"
    }
   ],
   "source": [
    "data.dtypes"
   ]
  },
  {
   "cell_type": "markdown",
   "metadata": {
    "colab_type": "text",
    "id": "mLflskPqPQbO"
   },
   "source": [
    "### Distribution of Balances of Credit Card Holders"
   ]
  },
  {
   "cell_type": "code",
   "execution_count": 161,
   "metadata": {
    "colab": {
     "base_uri": "https://localhost:8080/",
     "height": 296
    },
    "colab_type": "code",
    "id": "EL7nIQRzPUKr",
    "outputId": "65a008df-5992-487b-a7ef-cbb5d570c6c8"
   },
   "outputs": [
    {
     "data": {
      "text/plain": [
       "<matplotlib.axes._subplots.AxesSubplot at 0x21ade5eb488>"
      ]
     },
     "execution_count": 161,
     "metadata": {},
     "output_type": "execute_result"
    },
    {
     "data": {
      "image/png": "[encoded data removed]",
      "text/plain": [
       "<Figure size 432x288 with 1 Axes>"
      ]
     },
     "metadata": {
      "needs_background": "light"
     },
     "output_type": "display_data"
    }
   ],
   "source": [
    "sns.distplot(data['BALANCE'])"
   ]
  },
  {
   "cell_type": "markdown",
   "metadata": {},
   "source": [
    "Balance distribution is skewed to the right. Most credit holders have very low balances left in their accounts."
   ]
  },
  {
   "cell_type": "markdown",
   "metadata": {
    "colab_type": "text",
    "id": "XJb_1fPLPZjh"
   },
   "source": [
    "#### Quick data prep of Credit Limit variable"
   ]
  },
  {
   "cell_type": "code",
   "execution_count": 162,
   "metadata": {
    "colab": {
     "base_uri": "https://localhost:8080/",
     "height": 272
    },
    "colab_type": "code",
    "id": "A0vs8-PiPcYN",
    "outputId": "e3fe23b1-bc24-4003-8018-cef900781ea1"
   },
   "outputs": [
    {
     "data": {
      "text/plain": [
       "1"
      ]
     },
     "execution_count": 162,
     "metadata": {},
     "output_type": "execute_result"
    }
   ],
   "source": [
    "data['CREDIT_LIMIT'].isna().sum()"
   ]
  },
  {
   "cell_type": "code",
   "execution_count": 163,
   "metadata": {},
   "outputs": [],
   "source": [
    "data['CREDIT_LIMIT']=data['CREDIT_LIMIT'].fillna(0)"
   ]
  },
  {
   "cell_type": "code",
   "execution_count": 164,
   "metadata": {},
   "outputs": [
    {
     "data": {
      "text/plain": [
       "0"
      ]
     },
     "execution_count": 164,
     "metadata": {},
     "output_type": "execute_result"
    }
   ],
   "source": [
    "data['CREDIT_LIMIT'].isna().sum()"
   ]
  },
  {
   "cell_type": "markdown",
   "metadata": {},
   "source": [
    "### Credit Limit distribution of credit card holders"
   ]
  },
  {
   "cell_type": "code",
   "execution_count": 166,
   "metadata": {
    "scrolled": true
   },
   "outputs": [
    {
     "data": {
      "text/plain": [
       "<matplotlib.axes._subplots.AxesSubplot at 0x21ade6c1988>"
      ]
     },
     "execution_count": 166,
     "metadata": {},
     "output_type": "execute_result"
    },
    {
     "data": {
      "image/png": "[encoded data removed]",
      "text/plain": [
       "<Figure size 432x288 with 1 Axes>"
      ]
     },
     "metadata": {
      "needs_background": "light"
     },
     "output_type": "display_data"
    }
   ],
   "source": [
    "sns.distplot(data['CREDIT_LIMIT'])"
   ]
  },
  {
   "cell_type": "markdown",
   "metadata": {},
   "source": [
    "Credit limit distribution is also skewed to the right.  "
   ]
  },
  {
   "cell_type": "markdown",
   "metadata": {
    "colab_type": "text",
    "id": "IUJEe9cDPX0m"
   },
   "source": [
    "### Descriptive Statistics"
   ]
  },
  {
   "cell_type": "code",
   "execution_count": 167,
   "metadata": {
    "colab": {
     "base_uri": "https://localhost:8080/",
     "height": 272
    },
    "colab_type": "code",
    "id": "2D4DO4vYQZmX",
    "outputId": "da66d4f3-06aa-4b81-e5fc-93723f15e62c"
   },
   "outputs": [
    {
     "data": {
      "text/plain": [
       "count     8950.000000\n",
       "mean      1564.474828\n",
       "std       2081.531879\n",
       "min          0.000000\n",
       "10%         23.575529\n",
       "20%         77.238026\n",
       "30%        207.176552\n",
       "40%        467.021989\n",
       "50%        873.385231\n",
       "60%       1207.815587\n",
       "70%       1698.588855\n",
       "80%       2571.434263\n",
       "90%       4338.563657\n",
       "max      19043.138560\n",
       "Name: BALANCE, dtype: float64"
      ]
     },
     "execution_count": 167,
     "metadata": {},
     "output_type": "execute_result"
    }
   ],
   "source": [
    "data['BALANCE'].describe(np.arange(0.1, 1, 0.1))"
   ]
  },
  {
   "cell_type": "code",
   "execution_count": 180,
   "metadata": {},
   "outputs": [
    {
     "data": {
      "text/plain": [
       "count     8950.000000\n",
       "mean      4493.947277\n",
       "std       3638.922543\n",
       "min          0.000000\n",
       "10%       1200.000000\n",
       "20%       1500.000000\n",
       "30%       2000.000000\n",
       "40%       2500.000000\n",
       "50%       3000.000000\n",
       "60%       4200.000000\n",
       "70%       6000.000000\n",
       "80%       7000.000000\n",
       "90%       9500.000000\n",
       "max      30000.000000\n",
       "Name: CREDIT_LIMIT, dtype: float64"
      ]
     },
     "execution_count": 180,
     "metadata": {},
     "output_type": "execute_result"
    }
   ],
   "source": [
    "data['CREDIT_LIMIT'].describe(np.arange(0.1, 1, 0.1))"
   ]
  },
  {
   "cell_type": "code",
   "execution_count": 181,
   "metadata": {},
   "outputs": [
    {
     "data": {
      "text/plain": [
       "count     8950.000000\n",
       "mean      1003.204834\n",
       "std       2136.634782\n",
       "min          0.000000\n",
       "10%          0.000000\n",
       "20%          0.000000\n",
       "30%         89.285000\n",
       "40%        212.850000\n",
       "50%        361.280000\n",
       "60%        557.546000\n",
       "70%        894.316000\n",
       "80%       1422.438000\n",
       "90%       2542.624000\n",
       "max      49039.570000\n",
       "Name: PURCHASES, dtype: float64"
      ]
     },
     "execution_count": 181,
     "metadata": {},
     "output_type": "execute_result"
    }
   ],
   "source": [
    "data['PURCHASES'].describe(np.arange(0.1, 1, 0.1))"
   ]
  },
  {
   "cell_type": "code",
   "execution_count": 169,
   "metadata": {
    "colab": {
     "base_uri": "https://localhost:8080/",
     "height": 296
    },
    "colab_type": "code",
    "id": "MjgtlSe8QdGO",
    "outputId": "c3393283-44a0-43b0-d572-e49bf1d43c9c"
   },
   "outputs": [
    {
     "data": {
      "text/plain": [
       "<matplotlib.axes._subplots.AxesSubplot at 0x21ade79dc08>"
      ]
     },
     "execution_count": 169,
     "metadata": {},
     "output_type": "execute_result"
    },
    {
     "data": {
      "image/png": "[encoded data removed]",
      "text/plain": [
       "<Figure size 432x288 with 1 Axes>"
      ]
     },
     "metadata": {
      "needs_background": "light"
     },
     "output_type": "display_data"
    }
   ],
   "source": [
    "sns.distplot(data['PURCHASES'], kde=False)"
   ]
  },
  {
   "cell_type": "markdown",
   "metadata": {
    "colab_type": "text",
    "id": "gJzKWhQ_Qfvx"
   },
   "source": [
    "Visually, it seems majority of credit card holders purchased cheap items."
   ]
  },
  {
   "cell_type": "markdown",
   "metadata": {
    "colab_type": "text",
    "id": "rulXVROOQktg"
   },
   "source": [
    "# Clustering"
   ]
  },
  {
   "cell_type": "code",
   "execution_count": 170,
   "metadata": {
    "colab": {},
    "colab_type": "code",
    "id": "eh6RPPyKQqbo"
   },
   "outputs": [],
   "source": [
    "from sklearn.cluster import KMeans"
   ]
  },
  {
   "cell_type": "code",
   "execution_count": 171,
   "metadata": {
    "colab": {
     "base_uri": "https://localhost:8080/",
     "height": 204
    },
    "colab_type": "code",
    "id": "8IL-NAPHXfqY",
    "outputId": "a4942389-b46c-40a8-8df8-9b0ee2d27d20"
   },
   "outputs": [
    {
     "data": {
      "text/html": [
       "<div>\n",
       "<style scoped>\n",
       "    .dataframe tbody tr th:only-of-type {\n",
       "        vertical-align: middle;\n",
       "    }\n",
       "\n",
       "    .dataframe tbody tr th {\n",
       "        vertical-align: top;\n",
       "    }\n",
       "\n",
       "    .dataframe thead th {\n",
       "        text-align: right;\n",
       "    }\n",
       "</style>\n",
       "<table border=\"1\" class=\"dataframe\">\n",
       "  <thead>\n",
       "    <tr style=\"text-align: right;\">\n",
       "      <th></th>\n",
       "      <th>BALANCE</th>\n",
       "      <th>CREDIT_LIMIT</th>\n",
       "      <th>PURCHASES</th>\n",
       "    </tr>\n",
       "  </thead>\n",
       "  <tbody>\n",
       "    <tr>\n",
       "      <td>0</td>\n",
       "      <td>40.900749</td>\n",
       "      <td>1000.0</td>\n",
       "      <td>95.40</td>\n",
       "    </tr>\n",
       "    <tr>\n",
       "      <td>1</td>\n",
       "      <td>3202.467416</td>\n",
       "      <td>7000.0</td>\n",
       "      <td>0.00</td>\n",
       "    </tr>\n",
       "    <tr>\n",
       "      <td>2</td>\n",
       "      <td>2495.148862</td>\n",
       "      <td>7500.0</td>\n",
       "      <td>773.17</td>\n",
       "    </tr>\n",
       "    <tr>\n",
       "      <td>3</td>\n",
       "      <td>1666.670542</td>\n",
       "      <td>7500.0</td>\n",
       "      <td>1499.00</td>\n",
       "    </tr>\n",
       "    <tr>\n",
       "      <td>4</td>\n",
       "      <td>817.714335</td>\n",
       "      <td>1200.0</td>\n",
       "      <td>16.00</td>\n",
       "    </tr>\n",
       "  </tbody>\n",
       "</table>\n",
       "</div>"
      ],
      "text/plain": [
       "       BALANCE  CREDIT_LIMIT  PURCHASES\n",
       "0    40.900749        1000.0      95.40\n",
       "1  3202.467416        7000.0       0.00\n",
       "2  2495.148862        7500.0     773.17\n",
       "3  1666.670542        7500.0    1499.00\n",
       "4   817.714335        1200.0      16.00"
      ]
     },
     "execution_count": 171,
     "metadata": {},
     "output_type": "execute_result"
    }
   ],
   "source": [
    "# Select only 3 features from credit card dataset\n",
    "features = ['BALANCE', 'CREDIT_LIMIT', 'PURCHASES']\n",
    "X = data[features]\n",
    "\n",
    "# Convert categorical to numeric\n",
    "# X = pd.get_dummies(X_temp)\n",
    "\n",
    "\n",
    "X.head()"
   ]
  },
  {
   "cell_type": "code",
   "execution_count": 14,
   "metadata": {
    "colab": {
     "base_uri": "https://localhost:8080/",
     "height": 581
    },
    "colab_type": "code",
    "id": "wz4hZn1i4hZZ",
    "outputId": "23d9eb3e-58b1-4987-9eca-4c5605c1cc7e"
   },
   "outputs": [
    {
     "name": "stdout",
     "output_type": "stream",
     "text": [
      "Collecting hvplot\n",
      "  Downloading https://files.pythonhosted.org/packages/8d/76/dff23a55164f051628dce17cf5cadb08bb594b4a47212aaec29a2b5802ea/hvplot-0.5.2-py2.py3-none-any.whl (2.5MB)\n",
      "Requirement already satisfied: pandas in c:\\users\\rachelle melendres\\anaconda3\\lib\\site-packages (from hvplot) (0.25.1)\n",
      "Requirement already satisfied: bokeh>=1.0.0 in c:\\users\\rachelle melendres\\anaconda3\\lib\\site-packages (from hvplot) (1.3.4)\n",
      "Collecting holoviews>=1.11.0 (from hvplot)\n",
      "  Downloading https://files.pythonhosted.org/packages/bc/63/3ffc471d37c50a470a8a102f098b5cc79d7971196fc2d8e75c064dade311/holoviews-1.12.7-py2.py3-none-any.whl (4.0MB)\n",
      "Collecting colorcet (from hvplot)\n",
      "  Downloading https://files.pythonhosted.org/packages/b5/a4/8a5a364492af01c8b689987ce792d0d00835bbb1203a5cd5e49798a41fbd/colorcet-2.0.2-py2.py3-none-any.whl (1.6MB)\n",
      "Requirement already satisfied: numpy>=1.13.3 in c:\\users\\rachelle melendres\\anaconda3\\lib\\site-packages (from pandas->hvplot) (1.16.5)\n",
      "Requirement already satisfied: python-dateutil>=2.6.1 in c:\\users\\rachelle melendres\\anaconda3\\lib\\site-packages (from pandas->hvplot) (2.8.0)\n",
      "Requirement already satisfied: pytz>=2017.2 in c:\\users\\rachelle melendres\\anaconda3\\lib\\site-packages (from pandas->hvplot) (2019.3)\n",
      "Requirement already satisfied: Jinja2>=2.7 in c:\\users\\rachelle melendres\\anaconda3\\lib\\site-packages (from bokeh>=1.0.0->hvplot) (2.10.3)\n",
      "Requirement already satisfied: tornado>=4.3 in c:\\users\\rachelle melendres\\anaconda3\\lib\\site-packages (from bokeh>=1.0.0->hvplot) (6.0.3)\n",
      "Requirement already satisfied: PyYAML>=3.10 in c:\\users\\rachelle melendres\\anaconda3\\lib\\site-packages (from bokeh>=1.0.0->hvplot) (5.1.2)\n",
      "Requirement already satisfied: six>=1.5.2 in c:\\users\\rachelle melendres\\anaconda3\\lib\\site-packages (from bokeh>=1.0.0->hvplot) (1.12.0)\n",
      "Requirement already satisfied: pillow>=4.0 in c:\\users\\rachelle melendres\\anaconda3\\lib\\site-packages (from bokeh>=1.0.0->hvplot) (6.2.0)\n",
      "Requirement already satisfied: packaging>=16.8 in c:\\users\\rachelle melendres\\anaconda3\\lib\\site-packages (from bokeh>=1.0.0->hvplot) (19.2)\n",
      "Collecting param<2.0,>=1.8.0 (from holoviews>=1.11.0->hvplot)\n",
      "  Downloading https://files.pythonhosted.org/packages/09/56/82754e08729b787748a5a0c9e347704caa68c345ee18728bc997aa19f97c/param-1.9.2-py2.py3-none-any.whl (70kB)\n",
      "Collecting pyviz-comms>=0.7.2 (from holoviews>=1.11.0->hvplot)\n",
      "  Downloading https://files.pythonhosted.org/packages/9d/66/77220e2da76b65da0e6daaa30091062f569935deb3ae8f4de03533496800/pyviz_comms-0.7.2-py2.py3-none-any.whl\n",
      "Collecting pyct>=0.4.4 (from colorcet->hvplot)\n",
      "  Downloading https://files.pythonhosted.org/packages/eb/76/cdf8ba7edc7be2a26d418ff8d1ff695a7ac024761bda1ad6f8e269a90434/pyct-0.4.6-py2.py3-none-any.whl\n",
      "Requirement already satisfied: MarkupSafe>=0.23 in c:\\users\\rachelle melendres\\anaconda3\\lib\\site-packages (from Jinja2>=2.7->bokeh>=1.0.0->hvplot) (1.1.1)\n",
      "Requirement already satisfied: pyparsing>=2.0.2 in c:\\users\\rachelle melendres\\anaconda3\\lib\\site-packages (from packaging>=16.8->bokeh>=1.0.0->hvplot) (2.4.2)\n",
      "Installing collected packages: param, pyviz-comms, holoviews, pyct, colorcet, hvplot\n",
      "Successfully installed colorcet-2.0.2 holoviews-1.12.7 hvplot-0.5.2 param-1.9.2 pyct-0.4.6 pyviz-comms-0.7.2\n"
     ]
    }
   ],
   "source": [
    "!pip install hvplot"
   ]
  },
  {
   "cell_type": "code",
   "execution_count": 172,
   "metadata": {
    "colab": {
     "base_uri": "https://localhost:8080/",
     "height": 296
    },
    "colab_type": "code",
    "id": "WqkkvA3faEuF",
    "outputId": "2c0332e5-c9d7-4048-d6c1-2b68da62be1f",
    "scrolled": true
   },
   "outputs": [
    {
     "data": {
      "text/plain": [
       "<matplotlib.axes._subplots.AxesSubplot at 0x21ade8a7d48>"
      ]
     },
     "execution_count": 172,
     "metadata": {},
     "output_type": "execute_result"
    },
    {
     "data": {
      "image/png": "[encoded data removed]",
      "text/plain": [
       "<Figure size 432x288 with 1 Axes>"
      ]
     },
     "metadata": {
      "needs_background": "light"
     },
     "output_type": "display_data"
    }
   ],
   "source": [
    "# If you have 2 features, you can plot it on a 2D scatter plot\n",
    "X.plot.scatter('BALANCE', 'CREDIT_LIMIT')"
   ]
  },
  {
   "cell_type": "raw",
   "metadata": {
    "colab_type": "text",
    "id": "cYdb620Teh-4"
   },
   "source": [
    "### Choosing Optimal *k*"
   ]
  },
  {
   "cell_type": "code",
   "execution_count": 173,
   "metadata": {
    "colab": {
     "base_uri": "https://localhost:8080/",
     "height": 282
    },
    "colab_type": "code",
    "id": "qe3aWEI0ehjG",
    "outputId": "88792cfa-8617-493b-e159-23226f81b699"
   },
   "outputs": [
    {
     "data": {
      "text/plain": [
       "[<matplotlib.lines.Line2D at 0x21ade914408>]"
      ]
     },
     "execution_count": 173,
     "metadata": {},
     "output_type": "execute_result"
    },
    {
     "data": {
      "image/png": "[encoded data removed]",
      "text/plain": [
       "<Figure size 432x288 with 1 Axes>"
      ]
     },
     "metadata": {
      "needs_background": "light"
     },
     "output_type": "display_data"
    }
   ],
   "source": [
    "# get the sum of squared errors and find where the reduction of the errors are saturated with the increase of k\n",
    "squared_errors = []\n",
    "\n",
    "for num_iter in range(1,21):\n",
    "  km = KMeans(n_clusters=num_iter, random_state=42)\n",
    "  km.fit(X)\n",
    "  squared_errors.append(km.inertia_)\n",
    "\n",
    "# check for the best k to use\n",
    "plt.plot(squared_errors, marker = 'o')"
   ]
  },
  {
   "cell_type": "markdown",
   "metadata": {
    "colab_type": "text",
    "id": "ZYTzOIoVerNG"
   },
   "source": [
    "Using the elbow method, I decided to use k=3."
   ]
  },
  {
   "cell_type": "code",
   "execution_count": 174,
   "metadata": {
    "colab": {},
    "colab_type": "code",
    "id": "l8QUoI4DX7Nf"
   },
   "outputs": [],
   "source": [
    "# Clustering using KMeans. We choose 6 clusters\n",
    "km = KMeans(n_clusters = 3, random_state = 42)\n",
    "\n",
    "# Fit data to model\n",
    "km.fit(X)\n",
    "\n",
    "# Get labels\n",
    "labels = km.predict(X)\n",
    "\n",
    "# Create new dataframe with features and labels\n",
    "new_data = X.copy()\n",
    "\n",
    "# Add labels to new_data dataframe\n",
    "new_data['labels'] = labels"
   ]
  },
  {
   "cell_type": "code",
   "execution_count": 175,
   "metadata": {
    "colab": {
     "base_uri": "https://localhost:8080/",
     "height": 204
    },
    "colab_type": "code",
    "id": "1gCNHjXlZQBo",
    "outputId": "5bd5db80-45ab-437c-f44c-5a9d9cbb6b78"
   },
   "outputs": [
    {
     "data": {
      "text/html": [
       "<div>\n",
       "<style scoped>\n",
       "    .dataframe tbody tr th:only-of-type {\n",
       "        vertical-align: middle;\n",
       "    }\n",
       "\n",
       "    .dataframe tbody tr th {\n",
       "        vertical-align: top;\n",
       "    }\n",
       "\n",
       "    .dataframe thead th {\n",
       "        text-align: right;\n",
       "    }\n",
       "</style>\n",
       "<table border=\"1\" class=\"dataframe\">\n",
       "  <thead>\n",
       "    <tr style=\"text-align: right;\">\n",
       "      <th></th>\n",
       "      <th>BALANCE</th>\n",
       "      <th>CREDIT_LIMIT</th>\n",
       "      <th>PURCHASES</th>\n",
       "      <th>labels</th>\n",
       "    </tr>\n",
       "  </thead>\n",
       "  <tbody>\n",
       "    <tr>\n",
       "      <td>0</td>\n",
       "      <td>40.900749</td>\n",
       "      <td>1000.0</td>\n",
       "      <td>95.40</td>\n",
       "      <td>1</td>\n",
       "    </tr>\n",
       "    <tr>\n",
       "      <td>1</td>\n",
       "      <td>3202.467416</td>\n",
       "      <td>7000.0</td>\n",
       "      <td>0.00</td>\n",
       "      <td>2</td>\n",
       "    </tr>\n",
       "    <tr>\n",
       "      <td>2</td>\n",
       "      <td>2495.148862</td>\n",
       "      <td>7500.0</td>\n",
       "      <td>773.17</td>\n",
       "      <td>2</td>\n",
       "    </tr>\n",
       "    <tr>\n",
       "      <td>3</td>\n",
       "      <td>1666.670542</td>\n",
       "      <td>7500.0</td>\n",
       "      <td>1499.00</td>\n",
       "      <td>2</td>\n",
       "    </tr>\n",
       "    <tr>\n",
       "      <td>4</td>\n",
       "      <td>817.714335</td>\n",
       "      <td>1200.0</td>\n",
       "      <td>16.00</td>\n",
       "      <td>1</td>\n",
       "    </tr>\n",
       "  </tbody>\n",
       "</table>\n",
       "</div>"
      ],
      "text/plain": [
       "       BALANCE  CREDIT_LIMIT  PURCHASES  labels\n",
       "0    40.900749        1000.0      95.40       1\n",
       "1  3202.467416        7000.0       0.00       2\n",
       "2  2495.148862        7500.0     773.17       2\n",
       "3  1666.670542        7500.0    1499.00       2\n",
       "4   817.714335        1200.0      16.00       1"
      ]
     },
     "execution_count": 175,
     "metadata": {},
     "output_type": "execute_result"
    }
   ],
   "source": [
    "new_data.head()"
   ]
  },
  {
   "cell_type": "markdown",
   "metadata": {
    "colab_type": "text",
    "id": "8jGkTtvdbGeO"
   },
   "source": [
    "### Plot Centers and labels"
   ]
  },
  {
   "cell_type": "code",
   "execution_count": 176,
   "metadata": {
    "colab": {
     "base_uri": "https://localhost:8080/",
     "height": 621
    },
    "colab_type": "code",
    "id": "ptvhMiDHZSX2",
    "outputId": "98357a48-1dbf-465a-983c-2f35dba1fc78"
   },
   "outputs": [
    {
     "data": {
      "text/plain": [
       "<matplotlib.collections.PathCollection at 0x21ade9eda08>"
      ]
     },
     "execution_count": 176,
     "metadata": {},
     "output_type": "execute_result"
    },
    {
     "data": {
      "image/png": "[encoded data removed]",
      "text/plain": [
       "<Figure size 1440x720 with 2 Axes>"
      ]
     },
     "metadata": {
      "needs_background": "light"
     },
     "output_type": "display_data"
    }
   ],
   "source": [
    "# Plot data points and colorize based on label\n",
    "new_data.plot.scatter(x='BALANCE', \n",
    "                      y='CREDIT_LIMIT', \n",
    "                      c='labels', \n",
    "                      cmap='viridis',\n",
    "                      figsize=(20, 10))\n",
    "# new_data.plot.scatter(y='Gender_Female', \n",
    "#                       x='Spending Score (1-100)', \n",
    "#                       c='labels', \n",
    "#                       cmap='viridis',\n",
    "#                       figsize=(20, 10))\n",
    "\n",
    "\n",
    "# Get cluster centers\n",
    "centers = km.cluster_centers_\n",
    "plt.scatter(centers[:,0],centers[:,1], s=200, color='black')"
   ]
  },
  {
   "cell_type": "markdown",
   "metadata": {
    "colab_type": "text",
    "id": "I-FwRETgaoKT"
   },
   "source": [
    "# Deep Dive to each cluster"
   ]
  },
  {
   "cell_type": "code",
   "execution_count": 177,
   "metadata": {
    "colab": {
     "base_uri": "https://localhost:8080/",
     "height": 297
    },
    "colab_type": "code",
    "id": "DjCzSJYLc6Kv",
    "outputId": "80f83105-2ebf-49df-cc0e-80b84cad97da"
   },
   "outputs": [
    {
     "data": {
      "text/html": [
       "<div>\n",
       "<style scoped>\n",
       "    .dataframe tbody tr th:only-of-type {\n",
       "        vertical-align: middle;\n",
       "    }\n",
       "\n",
       "    .dataframe tbody tr th {\n",
       "        vertical-align: top;\n",
       "    }\n",
       "\n",
       "    .dataframe thead th {\n",
       "        text-align: right;\n",
       "    }\n",
       "</style>\n",
       "<table border=\"1\" class=\"dataframe\">\n",
       "  <thead>\n",
       "    <tr style=\"text-align: right;\">\n",
       "      <th></th>\n",
       "      <th>BALANCE</th>\n",
       "      <th>CREDIT_LIMIT</th>\n",
       "      <th>PURCHASES</th>\n",
       "      <th>labels</th>\n",
       "    </tr>\n",
       "  </thead>\n",
       "  <tbody>\n",
       "    <tr>\n",
       "      <td>count</td>\n",
       "      <td>674.000000</td>\n",
       "      <td>674.000000</td>\n",
       "      <td>674.000000</td>\n",
       "      <td>674.0</td>\n",
       "    </tr>\n",
       "    <tr>\n",
       "      <td>mean</td>\n",
       "      <td>5496.363646</td>\n",
       "      <td>13191.765579</td>\n",
       "      <td>3672.835682</td>\n",
       "      <td>0.0</td>\n",
       "    </tr>\n",
       "    <tr>\n",
       "      <td>std</td>\n",
       "      <td>3778.987156</td>\n",
       "      <td>3198.420115</td>\n",
       "      <td>5863.798037</td>\n",
       "      <td>0.0</td>\n",
       "    </tr>\n",
       "    <tr>\n",
       "      <td>min</td>\n",
       "      <td>1.019189</td>\n",
       "      <td>7000.000000</td>\n",
       "      <td>0.000000</td>\n",
       "      <td>0.0</td>\n",
       "    </tr>\n",
       "    <tr>\n",
       "      <td>25%</td>\n",
       "      <td>2399.091611</td>\n",
       "      <td>11000.000000</td>\n",
       "      <td>238.650000</td>\n",
       "      <td>0.0</td>\n",
       "    </tr>\n",
       "    <tr>\n",
       "      <td>50%</td>\n",
       "      <td>5651.331110</td>\n",
       "      <td>12500.000000</td>\n",
       "      <td>1490.845000</td>\n",
       "      <td>0.0</td>\n",
       "    </tr>\n",
       "    <tr>\n",
       "      <td>75%</td>\n",
       "      <td>8066.798097</td>\n",
       "      <td>15000.000000</td>\n",
       "      <td>4649.542500</td>\n",
       "      <td>0.0</td>\n",
       "    </tr>\n",
       "    <tr>\n",
       "      <td>max</td>\n",
       "      <td>19043.138560</td>\n",
       "      <td>30000.000000</td>\n",
       "      <td>49039.570000</td>\n",
       "      <td>0.0</td>\n",
       "    </tr>\n",
       "  </tbody>\n",
       "</table>\n",
       "</div>"
      ],
      "text/plain": [
       "            BALANCE  CREDIT_LIMIT     PURCHASES  labels\n",
       "count    674.000000    674.000000    674.000000   674.0\n",
       "mean    5496.363646  13191.765579   3672.835682     0.0\n",
       "std     3778.987156   3198.420115   5863.798037     0.0\n",
       "min        1.019189   7000.000000      0.000000     0.0\n",
       "25%     2399.091611  11000.000000    238.650000     0.0\n",
       "50%     5651.331110  12500.000000   1490.845000     0.0\n",
       "75%     8066.798097  15000.000000   4649.542500     0.0\n",
       "max    19043.138560  30000.000000  49039.570000     0.0"
      ]
     },
     "execution_count": 177,
     "metadata": {},
     "output_type": "execute_result"
    }
   ],
   "source": [
    "# Cluster 0\n",
    "cluster_0 = new_data[new_data['labels']==0]\n",
    "cluster_0.describe()"
   ]
  },
  {
   "cell_type": "markdown",
   "metadata": {
    "colab_type": "text",
    "id": "hnXVR-YRdgss"
   },
   "source": [
    "Cluster 0: High Balance, High Credit Limit, Highest Amount of Purchases\n",
    "            \"Millionaire Graduates\""
   ]
  },
  {
   "cell_type": "code",
   "execution_count": 178,
   "metadata": {
    "colab": {
     "base_uri": "https://localhost:8080/",
     "height": 297
    },
    "colab_type": "code",
    "id": "GjJcGRJebtu6",
    "outputId": "563599e4-4b49-42ea-aa1a-38ea870328d4"
   },
   "outputs": [
    {
     "data": {
      "text/html": [
       "<div>\n",
       "<style scoped>\n",
       "    .dataframe tbody tr th:only-of-type {\n",
       "        vertical-align: middle;\n",
       "    }\n",
       "\n",
       "    .dataframe tbody tr th {\n",
       "        vertical-align: top;\n",
       "    }\n",
       "\n",
       "    .dataframe thead th {\n",
       "        text-align: right;\n",
       "    }\n",
       "</style>\n",
       "<table border=\"1\" class=\"dataframe\">\n",
       "  <thead>\n",
       "    <tr style=\"text-align: right;\">\n",
       "      <th></th>\n",
       "      <th>BALANCE</th>\n",
       "      <th>CREDIT_LIMIT</th>\n",
       "      <th>PURCHASES</th>\n",
       "      <th>labels</th>\n",
       "    </tr>\n",
       "  </thead>\n",
       "  <tbody>\n",
       "    <tr>\n",
       "      <td>count</td>\n",
       "      <td>5619.000000</td>\n",
       "      <td>5619.000000</td>\n",
       "      <td>5619.000000</td>\n",
       "      <td>5619.0</td>\n",
       "    </tr>\n",
       "    <tr>\n",
       "      <td>mean</td>\n",
       "      <td>805.149262</td>\n",
       "      <td>2246.696427</td>\n",
       "      <td>548.031605</td>\n",
       "      <td>1.0</td>\n",
       "    </tr>\n",
       "    <tr>\n",
       "      <td>std</td>\n",
       "      <td>830.553765</td>\n",
       "      <td>1112.404833</td>\n",
       "      <td>809.963856</td>\n",
       "      <td>0.0</td>\n",
       "    </tr>\n",
       "    <tr>\n",
       "      <td>min</td>\n",
       "      <td>0.000000</td>\n",
       "      <td>0.000000</td>\n",
       "      <td>0.000000</td>\n",
       "      <td>1.0</td>\n",
       "    </tr>\n",
       "    <tr>\n",
       "      <td>25%</td>\n",
       "      <td>72.780617</td>\n",
       "      <td>1200.000000</td>\n",
       "      <td>14.990000</td>\n",
       "      <td>1.0</td>\n",
       "    </tr>\n",
       "    <tr>\n",
       "      <td>50%</td>\n",
       "      <td>545.767741</td>\n",
       "      <td>2000.000000</td>\n",
       "      <td>258.900000</td>\n",
       "      <td>1.0</td>\n",
       "    </tr>\n",
       "    <tr>\n",
       "      <td>75%</td>\n",
       "      <td>1281.923575</td>\n",
       "      <td>3000.000000</td>\n",
       "      <td>699.980000</td>\n",
       "      <td>1.0</td>\n",
       "    </tr>\n",
       "    <tr>\n",
       "      <td>max</td>\n",
       "      <td>4028.036480</td>\n",
       "      <td>5100.000000</td>\n",
       "      <td>8591.310000</td>\n",
       "      <td>1.0</td>\n",
       "    </tr>\n",
       "  </tbody>\n",
       "</table>\n",
       "</div>"
      ],
      "text/plain": [
       "           BALANCE  CREDIT_LIMIT    PURCHASES  labels\n",
       "count  5619.000000   5619.000000  5619.000000  5619.0\n",
       "mean    805.149262   2246.696427   548.031605     1.0\n",
       "std     830.553765   1112.404833   809.963856     0.0\n",
       "min       0.000000      0.000000     0.000000     1.0\n",
       "25%      72.780617   1200.000000    14.990000     1.0\n",
       "50%     545.767741   2000.000000   258.900000     1.0\n",
       "75%    1281.923575   3000.000000   699.980000     1.0\n",
       "max    4028.036480   5100.000000  8591.310000     1.0"
      ]
     },
     "execution_count": 178,
     "metadata": {},
     "output_type": "execute_result"
    }
   ],
   "source": [
    "# Cluster 1 \n",
    "cluster_1 = new_data[new_data['labels']==1]\n",
    "cluster_1.describe()"
   ]
  },
  {
   "cell_type": "markdown",
   "metadata": {
    "colab_type": "text",
    "id": "TAu_kbMvdl0C"
   },
   "source": [
    "Cluster 1: Low Balance, Low Credit Limit, Lowest Amount of Purchases\n",
    "        \"Mga Feeling Millionaires\""
   ]
  },
  {
   "cell_type": "code",
   "execution_count": 179,
   "metadata": {
    "colab": {
     "base_uri": "https://localhost:8080/",
     "height": 297
    },
    "colab_type": "code",
    "id": "H5ssZ-z9bvLZ",
    "outputId": "c64aee2d-3744-4341-8c05-7637ab23920c"
   },
   "outputs": [
    {
     "data": {
      "text/html": [
       "<div>\n",
       "<style scoped>\n",
       "    .dataframe tbody tr th:only-of-type {\n",
       "        vertical-align: middle;\n",
       "    }\n",
       "\n",
       "    .dataframe tbody tr th {\n",
       "        vertical-align: top;\n",
       "    }\n",
       "\n",
       "    .dataframe thead th {\n",
       "        text-align: right;\n",
       "    }\n",
       "</style>\n",
       "<table border=\"1\" class=\"dataframe\">\n",
       "  <thead>\n",
       "    <tr style=\"text-align: right;\">\n",
       "      <th></th>\n",
       "      <th>BALANCE</th>\n",
       "      <th>CREDIT_LIMIT</th>\n",
       "      <th>PURCHASES</th>\n",
       "      <th>labels</th>\n",
       "    </tr>\n",
       "  </thead>\n",
       "  <tbody>\n",
       "    <tr>\n",
       "      <td>count</td>\n",
       "      <td>2657.000000</td>\n",
       "      <td>2657.000000</td>\n",
       "      <td>2657.000000</td>\n",
       "      <td>2657.0</td>\n",
       "    </tr>\n",
       "    <tr>\n",
       "      <td>mean</td>\n",
       "      <td>2172.889315</td>\n",
       "      <td>7040.041742</td>\n",
       "      <td>1288.597072</td>\n",
       "      <td>2.0</td>\n",
       "    </tr>\n",
       "    <tr>\n",
       "      <td>std</td>\n",
       "      <td>2001.925972</td>\n",
       "      <td>1743.463696</td>\n",
       "      <td>1718.495545</td>\n",
       "      <td>0.0</td>\n",
       "    </tr>\n",
       "    <tr>\n",
       "      <td>min</td>\n",
       "      <td>0.000000</td>\n",
       "      <td>2800.000000</td>\n",
       "      <td>0.000000</td>\n",
       "      <td>2.0</td>\n",
       "    </tr>\n",
       "    <tr>\n",
       "      <td>25%</td>\n",
       "      <td>283.899006</td>\n",
       "      <td>6000.000000</td>\n",
       "      <td>86.000000</td>\n",
       "      <td>2.0</td>\n",
       "    </tr>\n",
       "    <tr>\n",
       "      <td>50%</td>\n",
       "      <td>1726.125465</td>\n",
       "      <td>7000.000000</td>\n",
       "      <td>666.100000</td>\n",
       "      <td>2.0</td>\n",
       "    </tr>\n",
       "    <tr>\n",
       "      <td>75%</td>\n",
       "      <td>3682.667737</td>\n",
       "      <td>8000.000000</td>\n",
       "      <td>1823.230000</td>\n",
       "      <td>2.0</td>\n",
       "    </tr>\n",
       "    <tr>\n",
       "      <td>max</td>\n",
       "      <td>8073.909084</td>\n",
       "      <td>13000.000000</td>\n",
       "      <td>15704.040000</td>\n",
       "      <td>2.0</td>\n",
       "    </tr>\n",
       "  </tbody>\n",
       "</table>\n",
       "</div>"
      ],
      "text/plain": [
       "           BALANCE  CREDIT_LIMIT     PURCHASES  labels\n",
       "count  2657.000000   2657.000000   2657.000000  2657.0\n",
       "mean   2172.889315   7040.041742   1288.597072     2.0\n",
       "std    2001.925972   1743.463696   1718.495545     0.0\n",
       "min       0.000000   2800.000000      0.000000     2.0\n",
       "25%     283.899006   6000.000000     86.000000     2.0\n",
       "50%    1726.125465   7000.000000    666.100000     2.0\n",
       "75%    3682.667737   8000.000000   1823.230000     2.0\n",
       "max    8073.909084  13000.000000  15704.040000     2.0"
      ]
     },
     "execution_count": 179,
     "metadata": {},
     "output_type": "execute_result"
    }
   ],
   "source": [
    "# Cluster 2\n",
    "cluster_2 = new_data[new_data['labels']==2]\n",
    "cluster_2.describe()"
   ]
  },
  {
   "cell_type": "markdown",
   "metadata": {
    "colab_type": "text",
    "id": "_5ypez6tdxis"
   },
   "source": [
    "Cluster 2: Medium Balance, Mid Credit Limit, Mid Amount of Purchases\n",
    "            \"Millionaires-in-Training\""
   ]
  }
 ],
 "metadata": {
  "colab": {
   "collapsed_sections": [],
   "name": "Copy of IntroClustering.ipynb",
   "provenance": [],
   "toc_visible": true
  },
  "kernelspec": {
   "display_name": "Python 3",
   "language": "python",
   "name": "python3"
  },
  "language_info": {
   "codemirror_mode": {
    "name": "ipython",
    "version": 3
   },
   "file_extension": ".py",
   "mimetype": "text/x-python",
   "name": "python",
   "nbconvert_exporter": "python",
   "pygments_lexer": "ipython3",
   "version": "3.7.4"
  }
 },
 "nbformat": 4,
 "nbformat_minor": 1
}
